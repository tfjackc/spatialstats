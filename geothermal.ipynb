{
 "cells": [
  {
   "cell_type": "code",
   "execution_count": 1,
   "id": "60cf717b-1151-4db8-8c81-0fc621cf2780",
   "metadata": {},
   "outputs": [],
   "source": [
    "import os\n",
    "import leafmap\n",
    "import geopandas as gpd"
   ]
  },
  {
   "cell_type": "markdown",
   "id": "e93f2fb7-8cad-4b9a-ae90-19bca2234239",
   "metadata": {},
   "source": [
    "# Relative Favorability of Deep Enhanced Geothermal Systems"
   ]
  },
  {
   "cell_type": "code",
   "execution_count": 2,
   "id": "0266654b-c03b-4bcd-8a40-c10ec56560d2",
   "metadata": {},
   "outputs": [
    {
     "data": {
      "application/vnd.jupyter.widget-view+json": {
       "model_id": "c5afc65ca001415aaaecb19abaa62a7f",
       "version_major": 2,
       "version_minor": 0
      },
      "text/plain": [
       "Map(center=[40, -100], controls=(ZoomControl(options=['position', 'zoom_in_text', 'zoom_in_title', 'zoom_out_t…"
      ]
     },
     "execution_count": 2,
     "metadata": {},
     "output_type": "execute_result"
    }
   ],
   "source": [
    "#url = \"https://gis.wrd.state.or.us/server/rest/services/dynamic/Groundwater_Sites_by_Themes_WGS84/MapServer/2/query?where=1%3D1&text=&objectIds=&time=&timeRelation=esriTimeRelationOverlaps&geometry=&geometryType=esriGeometryEnvelope&inSR=&spatialRel=esriSpatialRelIntersects&distance=&units=esriSRUnit_Foot&relationParam=&outFields=*&returnGeometry=true&returnTrueCurves=false&maxAllowableOffset=&geometryPrecision=&outSR=&havingClause=&returnIdsOnly=false&returnCountOnly=false&orderByFields=&groupByFieldsForStatistics=&outStatistics=&returnZ=false&returnM=false&gdbVersion=&historicMoment=&returnDistinctValues=false&resultOffset=&resultRecordCount=&returnExtentOnly=false&sqlFormat=none&datumTransformation=&parameterValues=&rangeValues=&quantizationParameters=&featureEncoding=esriDefault&f=geojson\"\n",
    "shpfile = r\"C:\\Users\\jcolpitt\\Downloads\\egs\\egs\\lower-48-geothermal-high-resolution\\GeothermalLCOE_NoExclusionsforAtlas.shp\"\n",
    "#m.reproject(dst_crs=\"EPSG:4269\")\n",
    "#m.add_title(\"Relative Favorability of Deep Enhanced Geothermal Systems\", font_size=\"20px\", align=\"center\")\n",
    "m = leafmap.Map(center=(40, -100), zoom=4)\n",
    "m.add_data(shpfile, layer_name=\"Geothermal\", column='CLASS', scheme='FisherJenks', cmap='Reds', legend_title='Geothermal Hotspots', descending=True)    # style=style, hover_style=hover_style)\n",
    "#m.add_geojson(url, layer_name=\"Wells\")\n",
    "m"
   ]
  },
  {
   "cell_type": "code",
   "execution_count": 3,
   "id": "8e2688cd-65dd-4b32-a5d8-2df2a79c1d86",
   "metadata": {},
   "outputs": [],
   "source": [
    "df = gpd.read_file(shpfile)\n",
    "df.to_csv(\"geothermal.csv\")"
   ]
  },
  {
   "cell_type": "code",
   "execution_count": 4,
   "id": "a7d4b9f2-dd8c-464e-8246-068ad276c53f",
   "metadata": {},
   "outputs": [
    {
     "data": {
      "text/html": [
       "<div>\n",
       "<style scoped>\n",
       "    .dataframe tbody tr th:only-of-type {\n",
       "        vertical-align: middle;\n",
       "    }\n",
       "\n",
       "    .dataframe tbody tr th {\n",
       "        vertical-align: top;\n",
       "    }\n",
       "\n",
       "    .dataframe thead th {\n",
       "        text-align: right;\n",
       "    }\n",
       "</style>\n",
       "<table border=\"1\" class=\"dataframe\">\n",
       "  <thead>\n",
       "    <tr style=\"text-align: right;\">\n",
       "      <th></th>\n",
       "      <th>CLASS</th>\n",
       "      <th>geometry</th>\n",
       "    </tr>\n",
       "  </thead>\n",
       "  <tbody>\n",
       "    <tr>\n",
       "      <th>0</th>\n",
       "      <td>5</td>\n",
       "      <td>POLYGON ((-1940580.000 3151440.000, -1940850.0...</td>\n",
       "    </tr>\n",
       "    <tr>\n",
       "      <th>1</th>\n",
       "      <td>5</td>\n",
       "      <td>POLYGON ((-1937160.000 3140910.000, -1937340.0...</td>\n",
       "    </tr>\n",
       "    <tr>\n",
       "      <th>2</th>\n",
       "      <td>999</td>\n",
       "      <td>POLYGON ((-1944000.000 3161880.000, -1944000.0...</td>\n",
       "    </tr>\n",
       "    <tr>\n",
       "      <th>3</th>\n",
       "      <td>5</td>\n",
       "      <td>POLYGON ((-1927710.000 3128670.000, -1927800.0...</td>\n",
       "    </tr>\n",
       "    <tr>\n",
       "      <th>4</th>\n",
       "      <td>999</td>\n",
       "      <td>POLYGON ((-1936260.000 3121560.000, -1936350.0...</td>\n",
       "    </tr>\n",
       "    <tr>\n",
       "      <th>...</th>\n",
       "      <td>...</td>\n",
       "      <td>...</td>\n",
       "    </tr>\n",
       "    <tr>\n",
       "      <th>1002</th>\n",
       "      <td>2</td>\n",
       "      <td>POLYGON ((-210330.000 339210.000, -211500.000 ...</td>\n",
       "    </tr>\n",
       "    <tr>\n",
       "      <th>1003</th>\n",
       "      <td>3</td>\n",
       "      <td>POLYGON ((-168210.000 338400.000, -170820.000 ...</td>\n",
       "    </tr>\n",
       "    <tr>\n",
       "      <th>1004</th>\n",
       "      <td>3</td>\n",
       "      <td>POLYGON ((-143190.000 328860.000, -147420.000 ...</td>\n",
       "    </tr>\n",
       "    <tr>\n",
       "      <th>1005</th>\n",
       "      <td>3</td>\n",
       "      <td>POLYGON ((-126270.000 328590.000, -128610.000 ...</td>\n",
       "    </tr>\n",
       "    <tr>\n",
       "      <th>1006</th>\n",
       "      <td>3</td>\n",
       "      <td>POLYGON ((-126270.000 328590.000, -126270.000 ...</td>\n",
       "    </tr>\n",
       "  </tbody>\n",
       "</table>\n",
       "<p>1007 rows × 2 columns</p>\n",
       "</div>"
      ],
      "text/plain": [
       "      CLASS                                           geometry\n",
       "0         5  POLYGON ((-1940580.000 3151440.000, -1940850.0...\n",
       "1         5  POLYGON ((-1937160.000 3140910.000, -1937340.0...\n",
       "2       999  POLYGON ((-1944000.000 3161880.000, -1944000.0...\n",
       "3         5  POLYGON ((-1927710.000 3128670.000, -1927800.0...\n",
       "4       999  POLYGON ((-1936260.000 3121560.000, -1936350.0...\n",
       "...     ...                                                ...\n",
       "1002      2  POLYGON ((-210330.000 339210.000, -211500.000 ...\n",
       "1003      3  POLYGON ((-168210.000 338400.000, -170820.000 ...\n",
       "1004      3  POLYGON ((-143190.000 328860.000, -147420.000 ...\n",
       "1005      3  POLYGON ((-126270.000 328590.000, -128610.000 ...\n",
       "1006      3  POLYGON ((-126270.000 328590.000, -126270.000 ...\n",
       "\n",
       "[1007 rows x 2 columns]"
      ]
     },
     "execution_count": 4,
     "metadata": {},
     "output_type": "execute_result"
    }
   ],
   "source": [
    "df"
   ]
  },
  {
   "cell_type": "code",
   "execution_count": null,
   "id": "2877ce91-6ecf-4883-b807-9b3df1c8fed0",
   "metadata": {},
   "outputs": [],
   "source": []
  }
 ],
 "metadata": {
  "kernelspec": {
   "display_name": "Python 3 (ipykernel)",
   "language": "python",
   "name": "python3"
  },
  "language_info": {
   "codemirror_mode": {
    "name": "ipython",
    "version": 3
   },
   "file_extension": ".py",
   "mimetype": "text/x-python",
   "name": "python",
   "nbconvert_exporter": "python",
   "pygments_lexer": "ipython3",
   "version": "3.11.4"
  }
 },
 "nbformat": 4,
 "nbformat_minor": 5
}
